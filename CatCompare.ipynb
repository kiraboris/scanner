{
 "cells": [
  {
   "cell_type": "code",
   "execution_count": 1,
   "metadata": {},
   "outputs": [
    {
     "name": "stdout",
     "output_type": "stream",
     "text": [
      "Warning: skipping bad line 1\n"
     ]
    }
   ],
   "source": [
    "from pickett import pickett\n",
    "\n",
    "filename_test = \"/home/borisov/projects/work/VinylCyanide/autofit_0/stage0.lin\"\n",
    "filename_cat = \"/home/borisov/projects/work/VinylCyanide/c053515.cat\"\n",
    "\n",
    "fmt = pickett.get_quantum_fmt(filename_cat)\n",
    "linelist_test = pickett.load_pgo_lin(filename_test, fmt)\n",
    "linelist_cat = pickett.load_cat(filename_cat)\n",
    "\n",
    "linelist_cat_dict = pickett.make_dict(linelist_cat)"
   ]
  },
  {
   "cell_type": "code",
   "execution_count": 2,
   "metadata": {},
   "outputs": [
    {
     "name": "stdout",
     "output_type": "stream",
     "text": [
      "(frozenset({('Ka', 25), ('N', 68), ('Kc', 44)}), frozenset({('Ka', 25), ('Kc', 43), ('N', 67)}))\n(frozenset({('Ka', 16), ('N', 50), ('Kc', 35)}), frozenset({('Kc', 36), ('Ka', 15), ('N', 51)}))\n(frozenset({('Ka', 14), ('N', 97), ('Kc', 83)}), frozenset({('Ka', 14), ('Kc', 82), ('N', 96)}))\n(frozenset({('Kc', 57), ('Ka', 16), ('N', 72)}), frozenset({('Ka', 16), ('N', 71), ('Kc', 56)}))\n(frozenset({('Ka', 6), ('N', 61), ('Kc', 56)}), frozenset({('N', 62), ('Ka', 3), ('Kc', 59)}))\n(frozenset({('Kc', 22), ('N', 26), ('Ka', 5)}), frozenset({('Kc', 23), ('N', 26), ('Ka', 4)}))\n(frozenset({('N', 33), ('Ka', 32), ('Kc', 1)}), frozenset({('Kc', 0), ('Ka', 32), ('N', 32)}))\n(frozenset({('Kc', 20), ('N', 39), ('Ka', 20)}), frozenset({('Ka', 19), ('N', 39), ('Kc', 21)}))\n(frozenset({('Ka', 22), ('N', 44), ('Kc', 23)}), frozenset({('Ka', 21), ('N', 45), ('Kc', 24)}))\n(frozenset({('N', 100), ('Ka', 3), ('Kc', 98)}), frozenset({('Kc', 97), ('Ka', 2), ('N', 99)}))\n"
     ]
    }
   ],
   "source": [
    "for i,key in enumerate(linelist_cat_dict.keys()):\n",
    "    if i < 10: print(key)"
   ]
  },
  {
   "cell_type": "code",
   "execution_count": 3,
   "metadata": {},
   "outputs": [],
   "source": [
    "def print_line(line, real_line):\n",
    "    print(\"Frequency: {:.4f}, actual frequency {:.4f}\".\n",
    "          format(line.freq, line_real.freq), end='')\n",
    "\n",
    "def criterium(line, real_line):\n",
    "    return abs(line.freq - real_line.freq) < .100 # MHz"
   ]
  },
  {
   "cell_type": "code",
   "execution_count": 4,
   "metadata": {},
   "outputs": [
    {
     "name": "stdout",
     "output_type": "stream",
     "text": [
      "Frequency: 47354.6581, actual frequency 47419.7944 --> mismatch!\nFrequency: 55446.3772, actual frequency 55510.5550 --> mismatch!\nFrequency: 56153.2170, actual frequency 56263.1958 --> mismatch!\nFrequency: 58252.5629, actual frequency 58252.5639 --> ok\nFrequency: 56764.5529, actual frequency 56786.9330 --> mismatch!\nFrequency: 56947.6877, actual frequency 57018.1834 --> mismatch!\nFrequency: 48552.5739, actual frequency 48552.5625 --> ok\nFrequency: 46223.8601, actual frequency 46266.9335 --> mismatch!\nFrequency: 47310.2651, actual frequency 47354.6482 --> mismatch!\nFrequency: 47440.9013, actual frequency 47489.2295 --> mismatch!\nFrequency: 56839.7402, actual frequency 56896.8087 --> mismatch!\nFrequency: 56538.2221, actual frequency 56942.5127 --> mismatch!\nFrequency: 56538.2221, actual frequency 56942.5127 --> mismatch!\nFrequency: 56666.2281, actual frequency 56936.4813 --> mismatch!\nFrequency: 56666.2281, actual frequency 56936.4789 --> mismatch!\nFrequency: 56782.4667, actual frequency 56936.1841 --> mismatch!\nFrequency: 56782.4667, actual frequency 56937.1079 --> mismatch!\nFrequency: 56969.7902, actual frequency 61118.3030 --> mismatch!\nFrequency: 62036.6796, actual frequency 62034.9910 --> mismatch!\nFrequency: 63070.3171, actual frequency 63390.0707 --> mismatch!\n"
     ]
    }
   ],
   "source": [
    "for line in linelist_test:\n",
    "    if line.qid() in linelist_cat_dict:\n",
    "        line_real = linelist_cat_dict[line.qid()]\n",
    "        print_line(line, line_real)\n",
    "        if not criterium(line, line_real):    \n",
    "            print(\" --> mismatch!\")\n",
    "        else:\n",
    "            print(\" --> ok\")"
   ]
  },
  {
   "cell_type": "code",
   "execution_count": null,
   "metadata": {},
   "outputs": [],
   "source": []
  }
 ],
 "metadata": {
  "kernelspec": {
   "display_name": "Python 3",
   "language": "python",
   "name": "python3"
  },
  "language_info": {
   "codemirror_mode": {
    "name": "ipython",
    "version": 3
   },
   "file_extension": ".py",
   "mimetype": "text/x-python",
   "name": "python",
   "nbconvert_exporter": "python",
   "pygments_lexer": "ipython3",
   "version": "3.5.2"
  }
 },
 "nbformat": 4,
 "nbformat_minor": 2
}
