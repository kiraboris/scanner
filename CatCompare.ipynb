{
 "cells": [
  {
   "cell_type": "code",
   "execution_count": 1,
   "metadata": {},
   "outputs": [
    {
     "name": "stdout",
     "output_type": "stream",
     "text": [
      "Warning: skipping bad line 1\n"
     ]
    }
   ],
   "source": [
    "from pickett import pickett\n",
    "\n",
    "filename_test = \"/home/borisov/projects/work/VinylCyanide/autofit_0/stage0.lin\"\n",
    "filename_cat = \"/home/borisov/projects/work/VinylCyanide/c053515.cat\"\n",
    "\n",
    "fmt = pickett.get_quantum_fmt(filename_cat)\n",
    "linelist_test = pickett.load_pgo_lin(filename_test, fmt)\n",
    "linelist_cat = pickett.load_cat(filename_cat)\n",
    "\n",
    "linelist_cat_dict = pickett.make_dict(linelist_cat)"
   ]
  },
  {
   "cell_type": "code",
   "execution_count": null,
   "metadata": {},
   "outputs": [],
   "source": [
    "for i,key in enumerate(linelist_cat_dict.keys()):\n",
    "    if i < 10: print(key)"
   ]
  },
  {
   "cell_type": "code",
   "execution_count": 6,
   "metadata": {},
   "outputs": [],
   "source": [
    "def print_line(line, real_line):\n",
    "    print(\"Frequency: {:.4f}, actual frequency {:.4f}\".\n",
    "          format(line.freq, line_real.freq), end='')\n",
    "\n",
    "def criterium(line, real_line):\n",
    "    return abs(line.freq - real_line.freq) < .100 # MHz"
   ]
  },
  {
   "cell_type": "code",
   "execution_count": 7,
   "metadata": {},
   "outputs": [
    {
     "name": "stdout",
     "output_type": "stream",
     "text": [
      "Frequency: 47354.6581, actual frequency 47419.7944 --> mismatch!\n",
      "Frequency: 55446.3772, actual frequency 55510.5550 --> mismatch!\n",
      "Frequency: 56153.2170, actual frequency 56263.1958 --> mismatch!\n",
      "Frequency: 58252.5629, actual frequency 58252.5639 --> ok\n",
      "Frequency: 56764.5529, actual frequency 56786.9330 --> mismatch!\n",
      "Frequency: 56947.6877, actual frequency 57018.1834 --> mismatch!\n",
      "Frequency: 48552.5739, actual frequency 48552.5625 --> ok\n",
      "Frequency: 46223.8601, actual frequency 46266.9335 --> mismatch!\n",
      "Frequency: 47310.2651, actual frequency 47354.6482 --> mismatch!\n",
      "Frequency: 47440.9013, actual frequency 47489.2295 --> mismatch!\n",
      "Frequency: 56839.7402, actual frequency 56896.8087 --> mismatch!\n",
      "Frequency: 56538.2221, actual frequency 56942.5127 --> mismatch!\n",
      "Frequency: 56538.2221, actual frequency 56942.5127 --> mismatch!\n",
      "Frequency: 56666.2281, actual frequency 56936.4813 --> mismatch!\n",
      "Frequency: 56666.2281, actual frequency 56936.4789 --> mismatch!\n",
      "Frequency: 56782.4667, actual frequency 56936.1841 --> mismatch!\n",
      "Frequency: 56782.4667, actual frequency 56937.1079 --> mismatch!\n",
      "Frequency: 56969.7902, actual frequency 61118.3030 --> mismatch!\n",
      "Frequency: 62036.6796, actual frequency 62034.9910 --> mismatch!\n",
      "Frequency: 63070.3171, actual frequency 63390.0707 --> mismatch!\n"
     ]
    }
   ],
   "source": [
    "for line in linelist_test:\n",
    "    if line.qid() in linelist_cat_dict:\n",
    "        line_real = linelist_cat_dict[line.qid()]\n",
    "        print_line(line, line_real)\n",
    "        if not criterium(line, line_real):    \n",
    "            print(\" --> mismatch!\")\n",
    "        else:\n",
    "            print(\" --> ok\")"
   ]
  }
 ],
 "metadata": {
  "kernelspec": {
   "display_name": "Python 3",
   "language": "python",
   "name": "python3"
  },
  "language_info": {
   "codemirror_mode": {
    "name": "ipython",
    "version": 3
   },
   "file_extension": ".py",
   "mimetype": "text/x-python",
   "name": "python",
   "nbconvert_exporter": "python",
   "pygments_lexer": "ipython3",
   "version": "3.5.2"
  }
 },
 "nbformat": 4,
 "nbformat_minor": 2
}
