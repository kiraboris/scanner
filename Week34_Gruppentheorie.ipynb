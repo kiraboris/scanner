{
 "cells": [
  {
   "cell_type": "code",
   "execution_count": 4,
   "metadata": {},
   "outputs": [],
   "source": [
    "import sympy\n",
    "\n",
    "from sympy import init_printing\n",
    "\n",
    "init_printing()\n",
    "\n",
    "from sympy.matrices import Matrix, eye\n",
    "\n",
    "sq = sympy.sqrt"
   ]
  },
  {
   "cell_type": "code",
   "execution_count": 5,
   "metadata": {},
   "outputs": [],
   "source": [
    "V = Matrix([[1/sq(3), 2/sq(6), 0], [1/sq(3), -1/sq(6), 1/sq(2)], [1/sq(3), -1/sq(6), -1/sq(2)]])"
   ]
  },
  {
   "cell_type": "code",
   "execution_count": 6,
   "metadata": {},
   "outputs": [
    {
     "data": {
      "image/png": "[encoded data removed]",
      "text/latex": [
       "$$\\left[\\begin{matrix}\\frac{\\sqrt{3}}{3} & \\frac{\\sqrt{6}}{3} & 0\\\\\\frac{\\sqrt{3}}{3} & - \\frac{\\sqrt{6}}{6} & \\frac{\\sqrt{2}}{2}\\\\\\frac{\\sqrt{3}}{3} & - \\frac{\\sqrt{6}}{6} & - \\frac{\\sqrt{2}}{2}\\end{matrix}\\right]$$"
      ],
      "text/plain": [
       "⎡√3   √6       ⎤\n",
       "⎢──   ──    0  ⎥\n",
       "⎢3    3        ⎥\n",
       "⎢              ⎥\n",
       "⎢√3  -√6    √2 ⎥\n",
       "⎢──  ────   ── ⎥\n",
       "⎢3    6     2  ⎥\n",
       "⎢              ⎥\n",
       "⎢√3  -√6   -√2 ⎥\n",
       "⎢──  ────  ────⎥\n",
       "⎣3    6     2  ⎦"
      ]
     },
     "execution_count": 6,
     "metadata": {},
     "output_type": "execute_result"
    }
   ],
   "source": [
    "V"
   ]
  },
  {
   "cell_type": "code",
   "execution_count": 8,
   "metadata": {},
   "outputs": [],
   "source": [
    "op_E = Matrix([[1, 0, 0], [0, 1, 0], [0, 0, 1]])\n",
    "op_12 = Matrix([[0, 1, 0], [1, 0, 0], [0, 0, 1]])\n",
    "op_13 = Matrix([[0, 0, 1], [0, 1, 0], [1, 0, 0]])\n",
    "op_23 = Matrix([[1, 0, 0], [0, 0, 1], [0, 1, 0]])\n",
    "op_123 = Matrix([[0, 1, 0], [0, 0, 1], [1, 0, 0]])\n",
    "op_132 = Matrix([[0, 0, 1], [1, 0, 0], [0, 1, 0]])"
   ]
  },
  {
   "cell_type": "code",
   "execution_count": 14,
   "metadata": {},
   "outputs": [],
   "source": [
    "op_E_prime = V.inv()*op_E*V\n",
    "op_12_prime = V.inv()*op_12*V\n",
    "op_13_prime = V.inv()*op_13*V\n",
    "op_23_prime = V.inv()*op_23*V\n",
    "op_123_prime = V.inv()*op_123*V\n",
    "op_132_prime = V.inv()*op_132*V\n"
   ]
  },
  {
   "cell_type": "code",
   "execution_count": 52,
   "metadata": {},
   "outputs": [
    {
     "data": {
      "image/png": "[encoded data removed]",
      "text/latex": [
       "$$\\left[\\begin{matrix}1 & 0 & 0\\\\0 & - \\frac{1}{2} & \\frac{\\sqrt{3}}{2}\\\\0 & - \\frac{\\sqrt{3}}{2} & - \\frac{1}{2}\\end{matrix}\\right]$$"
      ],
      "text/plain": [
       "⎡1   0     0  ⎤\n",
       "⎢             ⎥\n",
       "⎢          √3 ⎥\n",
       "⎢0  -1/2   ── ⎥\n",
       "⎢          2  ⎥\n",
       "⎢             ⎥\n",
       "⎢   -√3       ⎥\n",
       "⎢0  ────  -1/2⎥\n",
       "⎣    2        ⎦"
      ]
     },
     "execution_count": 52,
     "metadata": {},
     "output_type": "execute_result"
    }
   ],
   "source": [
    "op_123_prime"
   ]
  },
  {
   "cell_type": "code",
   "execution_count": 53,
   "metadata": {},
   "outputs": [],
   "source": [
    "op_12s = -op_12\n",
    "op_23s = -op_23\n",
    "op_13s = -op_13"
   ]
  },
  {
   "cell_type": "code",
   "execution_count": 54,
   "metadata": {},
   "outputs": [],
   "source": [
    "from sympy import Rational\n",
    "P_A1 =  Rational('1/6')*(1*op_E+1*(op_123+op_132)+1*(op_12s+op_13s+op_23s))\n",
    "P_A2 =  Rational('1/6')*(1*op_E+1*(op_123+op_132)-1*(op_12s+op_13s+op_23s))\n",
    "P_E =  Rational('2/6')*(2*op_E-1*(op_123+op_132))"
   ]
  },
  {
   "cell_type": "code",
   "execution_count": 59,
   "metadata": {},
   "outputs": [
    {
     "data": {
      "image/png": "[encoded data removed]",
      "text/latex": [
       "$$\\left [ \\left ( 0, \\quad 1, \\quad \\left [ \\left[\\begin{matrix}1\\\\1\\\\1\\end{matrix}\\right]\\right ]\\right ), \\quad \\left ( 1, \\quad 2, \\quad \\left [ \\left[\\begin{matrix}-1\\\\1\\\\0\\end{matrix}\\right], \\quad \\left[\\begin{matrix}-1\\\\0\\\\1\\end{matrix}\\right]\\right ]\\right )\\right ]$$"
      ],
      "text/plain": [
       "⎡⎛      ⎡⎡1⎤⎤⎞  ⎛      ⎡⎡-1⎤  ⎡-1⎤⎤⎞⎤\n",
       "⎢⎜      ⎢⎢ ⎥⎥⎟  ⎜      ⎢⎢  ⎥  ⎢  ⎥⎥⎟⎥\n",
       "⎢⎜0, 1, ⎢⎢1⎥⎥⎟, ⎜1, 2, ⎢⎢1 ⎥, ⎢0 ⎥⎥⎟⎥\n",
       "⎢⎜      ⎢⎢ ⎥⎥⎟  ⎜      ⎢⎢  ⎥  ⎢  ⎥⎥⎟⎥\n",
       "⎣⎝      ⎣⎣1⎦⎦⎠  ⎝      ⎣⎣0 ⎦  ⎣1 ⎦⎦⎠⎦"
      ]
     },
     "execution_count": 59,
     "metadata": {},
     "output_type": "execute_result"
    }
   ],
   "source": [
    "P_E.eigenvects()"
   ]
  },
  {
   "cell_type": "code",
   "execution_count": 65,
   "metadata": {},
   "outputs": [
    {
     "data": {
      "image/png": "[encoded data removed]",
      "text/latex": [
       "$$\\left [ \\left ( 0, \\quad 2, \\quad \\left [ \\left[\\begin{matrix}-1\\\\1\\\\0\\end{matrix}\\right], \\quad \\left[\\begin{matrix}-1\\\\0\\\\1\\end{matrix}\\right]\\right ]\\right ), \\quad \\left ( 1, \\quad 1, \\quad \\left [ \\left[\\begin{matrix}1\\\\1\\\\1\\end{matrix}\\right]\\right ]\\right )\\right ]$$"
      ],
      "text/plain": [
       "⎡⎛      ⎡⎡-1⎤  ⎡-1⎤⎤⎞  ⎛      ⎡⎡1⎤⎤⎞⎤\n",
       "⎢⎜      ⎢⎢  ⎥  ⎢  ⎥⎥⎟  ⎜      ⎢⎢ ⎥⎥⎟⎥\n",
       "⎢⎜0, 2, ⎢⎢1 ⎥, ⎢0 ⎥⎥⎟, ⎜1, 1, ⎢⎢1⎥⎥⎟⎥\n",
       "⎢⎜      ⎢⎢  ⎥  ⎢  ⎥⎥⎟  ⎜      ⎢⎢ ⎥⎥⎟⎥\n",
       "⎣⎝      ⎣⎣0 ⎦  ⎣1 ⎦⎦⎠  ⎝      ⎣⎣1⎦⎦⎠⎦"
      ]
     },
     "execution_count": 65,
     "metadata": {},
     "output_type": "execute_result"
    }
   ],
   "source": [
    "P_A2.eigenvects()"
   ]
  },
  {
   "cell_type": "code",
   "execution_count": 68,
   "metadata": {},
   "outputs": [],
   "source": [
    "M123 = op_123_prime[1:,1:]"
   ]
  },
  {
   "cell_type": "code",
   "execution_count": 71,
   "metadata": {},
   "outputs": [
    {
     "data": {
      "image/png": "[encoded data removed]",
      "text/latex": [
       "$$\\left [ \\left ( - \\frac{1}{2} - \\frac{\\sqrt{3} i}{2}, \\quad 1, \\quad \\left [ \\left[\\begin{matrix}i\\\\1\\end{matrix}\\right]\\right ]\\right ), \\quad \\left ( - \\frac{1}{2} + \\frac{\\sqrt{3} i}{2}, \\quad 1, \\quad \\left [ \\left[\\begin{matrix}- i\\\\1\\end{matrix}\\right]\\right ]\\right )\\right ]$$"
      ],
      "text/plain": [
       "⎡⎛  1   √3⋅ⅈ     ⎡⎡ⅈ⎤⎤⎞  ⎛  1   √3⋅ⅈ     ⎡⎡-ⅈ⎤⎤⎞⎤\n",
       "⎢⎜- ─ - ────, 1, ⎢⎢ ⎥⎥⎟, ⎜- ─ + ────, 1, ⎢⎢  ⎥⎥⎟⎥\n",
       "⎣⎝  2    2       ⎣⎣1⎦⎦⎠  ⎝  2    2       ⎣⎣1 ⎦⎦⎠⎦"
      ]
     },
     "execution_count": 71,
     "metadata": {},
     "output_type": "execute_result"
    }
   ],
   "source": [
    "M123.eigenvects()"
   ]
  },
  {
   "cell_type": "code",
   "execution_count": 70,
   "metadata": {},
   "outputs": [
    {
     "data": {
      "image/png": "[encoded data removed]",
      "text/latex": [
       "$$\\left[\\begin{matrix}-1\\\\1\\end{matrix}\\right]$$"
      ],
      "text/plain": [
       "⎡-1⎤\n",
       "⎢  ⎥\n",
       "⎣1 ⎦"
      ]
     },
     "execution_count": 70,
     "metadata": {},
     "output_type": "execute_result"
    }
   ],
   "source": [
    " Matrix([[-1],[1]])"
   ]
  },
  {
   "cell_type": "code",
   "execution_count": 72,
   "metadata": {},
   "outputs": [],
   "source": [
    "r1, r2, r3 = sympy.symbols(\"r1 r2 r3\")"
   ]
  },
  {
   "cell_type": "code",
   "execution_count": 73,
   "metadata": {},
   "outputs": [],
   "source": [
    "R =  Matrix([[r1],[r2],[r3]])"
   ]
  },
  {
   "cell_type": "code",
   "execution_count": 74,
   "metadata": {},
   "outputs": [
    {
     "data": {
      "image/png": "[encoded data removed]",
      "text/latex": [
       "$$\\left[\\begin{matrix}r_{1}\\\\r_{2}\\\\r_{3}\\end{matrix}\\right]$$"
      ],
      "text/plain": [
       "⎡r₁⎤\n",
       "⎢  ⎥\n",
       "⎢r₂⎥\n",
       "⎢  ⎥\n",
       "⎣r₃⎦"
      ]
     },
     "execution_count": 74,
     "metadata": {},
     "output_type": "execute_result"
    }
   ],
   "source": [
    "R"
   ]
  },
  {
   "cell_type": "code",
   "execution_count": 75,
   "metadata": {},
   "outputs": [],
   "source": [
    "Rprime = Matrix([[-r1+r2],[-r1+r3]])"
   ]
  },
  {
   "cell_type": "code",
   "execution_count": 76,
   "metadata": {},
   "outputs": [
    {
     "data": {
      "image/png": "[encoded data removed]",
      "text/latex": [
       "$$\\left[\\begin{matrix}- r_{1} + r_{2}\\\\- r_{1} + r_{3}\\end{matrix}\\right]$$"
      ],
      "text/plain": [
       "⎡-r₁ + r₂⎤\n",
       "⎢        ⎥\n",
       "⎣-r₁ + r₃⎦"
      ]
     },
     "execution_count": 76,
     "metadata": {},
     "output_type": "execute_result"
    }
   ],
   "source": [
    "Rprime"
   ]
  },
  {
   "cell_type": "code",
   "execution_count": 83,
   "metadata": {},
   "outputs": [
    {
     "data": {
      "image/png": "[encoded data removed]",
      "text/latex": [
       "$$\\left[\\begin{matrix}\\frac{\\sqrt{3}}{3} & \\frac{\\sqrt{6}}{3} & 0\\\\\\frac{\\sqrt{3}}{3} & - \\frac{\\sqrt{6}}{6} & \\frac{\\sqrt{2}}{2}\\\\\\frac{\\sqrt{3}}{3} & - \\frac{\\sqrt{6}}{6} & - \\frac{\\sqrt{2}}{2}\\end{matrix}\\right]$$"
      ],
      "text/plain": [
       "⎡√3   √6       ⎤\n",
       "⎢──   ──    0  ⎥\n",
       "⎢3    3        ⎥\n",
       "⎢              ⎥\n",
       "⎢√3  -√6    √2 ⎥\n",
       "⎢──  ────   ── ⎥\n",
       "⎢3    6     2  ⎥\n",
       "⎢              ⎥\n",
       "⎢√3  -√6   -√2 ⎥\n",
       "⎢──  ────  ────⎥\n",
       "⎣3    6     2  ⎦"
      ]
     },
     "execution_count": 83,
     "metadata": {},
     "output_type": "execute_result"
    }
   ],
   "source": [
    "V"
   ]
  },
  {
   "cell_type": "code",
   "execution_count": 79,
   "metadata": {},
   "outputs": [],
   "source": [
    "S =  Matrix([[r2],[r3],[r1]])\n",
    "Sprime = Matrix([[-r2+r3],[-r2+r1]])"
   ]
  },
  {
   "cell_type": "code",
   "execution_count": 80,
   "metadata": {},
   "outputs": [
    {
     "data": {
      "image/png": "[encoded data removed]",
      "text/latex": [
       "$$\\left[\\begin{matrix}- r_{2} + r_{3}\\\\r_{1} - r_{2}\\end{matrix}\\right]$$"
      ],
      "text/plain": [
       "⎡-r₂ + r₃⎤\n",
       "⎢        ⎥\n",
       "⎣r₁ - r₂ ⎦"
      ]
     },
     "execution_count": 80,
     "metadata": {},
     "output_type": "execute_result"
    }
   ],
   "source": [
    "Sprime"
   ]
  },
  {
   "cell_type": "code",
   "execution_count": 85,
   "metadata": {},
   "outputs": [],
   "source": [
    "P_G1 =  Rational('1/6')*(1*op_E+1*(op_123+op_132)+1*(op_12+op_13+op_23))\n",
    "P_G2 =  Rational('2/6')*(2*op_E-1*(op_123+op_132))"
   ]
  },
  {
   "cell_type": "code",
   "execution_count": 88,
   "metadata": {},
   "outputs": [
    {
     "data": {
      "image/png": "[encoded data removed]",
      "text/latex": [
       "$$\\left[\\begin{matrix}\\frac{2}{3} & - \\frac{1}{3} & - \\frac{1}{3}\\\\- \\frac{1}{3} & \\frac{2}{3} & - \\frac{1}{3}\\\\- \\frac{1}{3} & - \\frac{1}{3} & \\frac{2}{3}\\end{matrix}\\right]$$"
      ],
      "text/plain": [
       "⎡2/3   -1/3  -1/3⎤\n",
       "⎢                ⎥\n",
       "⎢-1/3  2/3   -1/3⎥\n",
       "⎢                ⎥\n",
       "⎣-1/3  -1/3  2/3 ⎦"
      ]
     },
     "execution_count": 88,
     "metadata": {},
     "output_type": "execute_result"
    }
   ],
   "source": [
    "P_G2*P_G2"
   ]
  }
 ],
 "metadata": {
  "kernelspec": {
   "display_name": "Python 3",
   "language": "python",
   "name": "python3"
  },
  "language_info": {
   "codemirror_mode": {
    "name": "ipython",
    "version": 3
   },
   "file_extension": ".py",
   "mimetype": "text/x-python",
   "name": "python",
   "nbconvert_exporter": "python",
   "pygments_lexer": "ipython3",
   "version": "3.5.2"
  }
 },
 "nbformat": 4,
 "nbformat_minor": 2
}
